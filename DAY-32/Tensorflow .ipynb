{
 "cells": [
  {
   "cell_type": "code",
   "execution_count": 1,
   "id": "f3058a85",
   "metadata": {},
   "outputs": [],
   "source": [
    "import numpy as np\n",
    "import pandas as pd\n",
    "import matplotlib.pyplot as plt"
   ]
  },
  {
   "cell_type": "code",
   "execution_count": 2,
   "id": "6b28fceb",
   "metadata": {},
   "outputs": [],
   "source": [
    "from sklearn.datasets import load_iris"
   ]
  },
  {
   "cell_type": "code",
   "execution_count": 3,
   "id": "c5564996",
   "metadata": {},
   "outputs": [
    {
     "name": "stdout",
     "output_type": "stream",
     "text": [
      "Requirement already satisfied: tensorflow in c:\\users\\dell\\anaconda3\\lib\\site-packages (2.9.1)\n",
      "Requirement already satisfied: tensorflow-estimator<2.10.0,>=2.9.0rc0 in c:\\users\\dell\\anaconda3\\lib\\site-packages (from tensorflow) (2.9.0)\n",
      "Requirement already satisfied: protobuf<3.20,>=3.9.2 in c:\\users\\dell\\anaconda3\\lib\\site-packages (from tensorflow) (3.19.1)\n",
      "Requirement already satisfied: tensorboard<2.10,>=2.9 in c:\\users\\dell\\anaconda3\\lib\\site-packages (from tensorflow) (2.9.1)\n",
      "Requirement already satisfied: termcolor>=1.1.0 in c:\\users\\dell\\anaconda3\\lib\\site-packages (from tensorflow) (1.1.0)\n",
      "Requirement already satisfied: keras-preprocessing>=1.1.1 in c:\\users\\dell\\anaconda3\\lib\\site-packages (from tensorflow) (1.1.2)\n",
      "Requirement already satisfied: numpy>=1.20 in c:\\users\\dell\\anaconda3\\lib\\site-packages (from tensorflow) (1.21.5)\n",
      "Requirement already satisfied: gast<=0.4.0,>=0.2.1 in c:\\users\\dell\\anaconda3\\lib\\site-packages (from tensorflow) (0.4.0)\n",
      "Requirement already satisfied: grpcio<2.0,>=1.24.3 in c:\\users\\dell\\anaconda3\\lib\\site-packages (from tensorflow) (1.42.0)\n",
      "Requirement already satisfied: astunparse>=1.6.0 in c:\\users\\dell\\anaconda3\\lib\\site-packages (from tensorflow) (1.6.3)\n",
      "Requirement already satisfied: setuptools in c:\\users\\dell\\anaconda3\\lib\\site-packages (from tensorflow) (61.2.0)\n",
      "Requirement already satisfied: absl-py>=1.0.0 in c:\\users\\dell\\anaconda3\\lib\\site-packages (from tensorflow) (1.1.0)\n",
      "Requirement already satisfied: flatbuffers<2,>=1.12 in c:\\users\\dell\\anaconda3\\lib\\site-packages (from tensorflow) (1.12)\n",
      "Requirement already satisfied: opt-einsum>=2.3.2 in c:\\users\\dell\\anaconda3\\lib\\site-packages (from tensorflow) (3.3.0)\n",
      "Requirement already satisfied: packaging in c:\\users\\dell\\anaconda3\\lib\\site-packages (from tensorflow) (21.3)\n",
      "Requirement already satisfied: libclang>=13.0.0 in c:\\users\\dell\\anaconda3\\lib\\site-packages (from tensorflow) (14.0.1)\n",
      "Requirement already satisfied: h5py>=2.9.0 in c:\\users\\dell\\anaconda3\\lib\\site-packages (from tensorflow) (3.6.0)\n",
      "Requirement already satisfied: keras<2.10.0,>=2.9.0rc0 in c:\\users\\dell\\anaconda3\\lib\\site-packages (from tensorflow) (2.9.0)\n",
      "Requirement already satisfied: tensorflow-io-gcs-filesystem>=0.23.1 in c:\\users\\dell\\anaconda3\\lib\\site-packages (from tensorflow) (0.26.0)\n",
      "Requirement already satisfied: typing-extensions>=3.6.6 in c:\\users\\dell\\anaconda3\\lib\\site-packages (from tensorflow) (4.1.1)\n",
      "Requirement already satisfied: google-pasta>=0.1.1 in c:\\users\\dell\\anaconda3\\lib\\site-packages (from tensorflow) (0.2.0)\n",
      "Requirement already satisfied: wrapt>=1.11.0 in c:\\users\\dell\\anaconda3\\lib\\site-packages (from tensorflow) (1.12.1)\n",
      "Requirement already satisfied: six>=1.12.0 in c:\\users\\dell\\anaconda3\\lib\\site-packages (from tensorflow) (1.16.0)\n",
      "Requirement already satisfied: wheel<1.0,>=0.23.0 in c:\\users\\dell\\anaconda3\\lib\\site-packages (from astunparse>=1.6.0->tensorflow) (0.37.1)\n",
      "Requirement already satisfied: google-auth<3,>=1.6.3 in c:\\users\\dell\\anaconda3\\lib\\site-packages (from tensorboard<2.10,>=2.9->tensorflow) (1.33.0)\n",
      "Requirement already satisfied: markdown>=2.6.8 in c:\\users\\dell\\anaconda3\\lib\\site-packages (from tensorboard<2.10,>=2.9->tensorflow) (3.3.4)\n",
      "Requirement already satisfied: tensorboard-plugin-wit>=1.6.0 in c:\\users\\dell\\anaconda3\\lib\\site-packages (from tensorboard<2.10,>=2.9->tensorflow) (1.8.1)\n",
      "Requirement already satisfied: google-auth-oauthlib<0.5,>=0.4.1 in c:\\users\\dell\\anaconda3\\lib\\site-packages (from tensorboard<2.10,>=2.9->tensorflow) (0.4.6)\n",
      "Requirement already satisfied: werkzeug>=1.0.1 in c:\\users\\dell\\anaconda3\\lib\\site-packages (from tensorboard<2.10,>=2.9->tensorflow) (2.0.3)\n",
      "Requirement already satisfied: requests<3,>=2.21.0 in c:\\users\\dell\\anaconda3\\lib\\site-packages (from tensorboard<2.10,>=2.9->tensorflow) (2.27.1)\n",
      "Requirement already satisfied: tensorboard-data-server<0.7.0,>=0.6.0 in c:\\users\\dell\\anaconda3\\lib\\site-packages (from tensorboard<2.10,>=2.9->tensorflow) (0.6.1)\n",
      "Requirement already satisfied: cachetools<5.0,>=2.0.0 in c:\\users\\dell\\anaconda3\\lib\\site-packages (from google-auth<3,>=1.6.3->tensorboard<2.10,>=2.9->tensorflow) (4.2.2)\n",
      "Requirement already satisfied: rsa<5,>=3.1.4 in c:\\users\\dell\\anaconda3\\lib\\site-packages (from google-auth<3,>=1.6.3->tensorboard<2.10,>=2.9->tensorflow) (4.7.2)\n",
      "Requirement already satisfied: pyasn1-modules>=0.2.1 in c:\\users\\dell\\anaconda3\\lib\\site-packages (from google-auth<3,>=1.6.3->tensorboard<2.10,>=2.9->tensorflow) (0.2.8)\n",
      "Requirement already satisfied: requests-oauthlib>=0.7.0 in c:\\users\\dell\\anaconda3\\lib\\site-packages (from google-auth-oauthlib<0.5,>=0.4.1->tensorboard<2.10,>=2.9->tensorflow) (1.3.1)\n",
      "Requirement already satisfied: pyasn1<0.5.0,>=0.4.6 in c:\\users\\dell\\anaconda3\\lib\\site-packages (from pyasn1-modules>=0.2.1->google-auth<3,>=1.6.3->tensorboard<2.10,>=2.9->tensorflow) (0.4.8)\n",
      "Requirement already satisfied: idna<4,>=2.5 in c:\\users\\dell\\anaconda3\\lib\\site-packages (from requests<3,>=2.21.0->tensorboard<2.10,>=2.9->tensorflow) (3.3)\n",
      "Requirement already satisfied: certifi>=2017.4.17 in c:\\users\\dell\\anaconda3\\lib\\site-packages (from requests<3,>=2.21.0->tensorboard<2.10,>=2.9->tensorflow) (2021.10.8)\n",
      "Requirement already satisfied: charset-normalizer~=2.0.0 in c:\\users\\dell\\anaconda3\\lib\\site-packages (from requests<3,>=2.21.0->tensorboard<2.10,>=2.9->tensorflow) (2.0.4)\n",
      "Requirement already satisfied: urllib3<1.27,>=1.21.1 in c:\\users\\dell\\anaconda3\\lib\\site-packages (from requests<3,>=2.21.0->tensorboard<2.10,>=2.9->tensorflow) (1.26.9)\n",
      "Requirement already satisfied: oauthlib>=3.0.0 in c:\\users\\dell\\anaconda3\\lib\\site-packages (from requests-oauthlib>=0.7.0->google-auth-oauthlib<0.5,>=0.4.1->tensorboard<2.10,>=2.9->tensorflow) (3.2.0)\n",
      "Requirement already satisfied: pyparsing!=3.0.5,>=2.0.2 in c:\\users\\dell\\anaconda3\\lib\\site-packages (from packaging->tensorflow) (3.0.4)\n"
     ]
    }
   ],
   "source": [
    " !pip install tensorflow"
   ]
  },
  {
   "cell_type": "code",
   "execution_count": 4,
   "id": "9b7dbd21",
   "metadata": {},
   "outputs": [],
   "source": [
    "from tensorflow.keras.layers import Dense #NN"
   ]
  },
  {
   "cell_type": "code",
   "execution_count": 5,
   "id": "0ebdb442",
   "metadata": {},
   "outputs": [],
   "source": [
    "from tensorflow.keras.models import Sequential\n",
    "from tensorflow.keras.utils import to_categorical"
   ]
  },
  {
   "cell_type": "code",
   "execution_count": 6,
   "id": "cbe3946f",
   "metadata": {},
   "outputs": [],
   "source": [
    "data = load_iris()\n",
    "features = data['data']\n",
    "target = data['target']"
   ]
  },
  {
   "cell_type": "code",
   "execution_count": 7,
   "id": "07e72883",
   "metadata": {},
   "outputs": [
    {
     "data": {
      "text/plain": [
       "array([0, 0, 0, 0, 0, 0, 0, 0, 0, 0, 0, 0, 0, 0, 0, 0, 0, 0, 0, 0, 0, 0,\n",
       "       0, 0, 0, 0, 0, 0, 0, 0, 0, 0, 0, 0, 0, 0, 0, 0, 0, 0, 0, 0, 0, 0,\n",
       "       0, 0, 0, 0, 0, 0, 1, 1, 1, 1, 1, 1, 1, 1, 1, 1, 1, 1, 1, 1, 1, 1,\n",
       "       1, 1, 1, 1, 1, 1, 1, 1, 1, 1, 1, 1, 1, 1, 1, 1, 1, 1, 1, 1, 1, 1,\n",
       "       1, 1, 1, 1, 1, 1, 1, 1, 1, 1, 1, 1, 2, 2, 2, 2, 2, 2, 2, 2, 2, 2,\n",
       "       2, 2, 2, 2, 2, 2, 2, 2, 2, 2, 2, 2, 2, 2, 2, 2, 2, 2, 2, 2, 2, 2,\n",
       "       2, 2, 2, 2, 2, 2, 2, 2, 2, 2, 2, 2, 2, 2, 2, 2, 2, 2])"
      ]
     },
     "execution_count": 7,
     "metadata": {},
     "output_type": "execute_result"
    }
   ],
   "source": [
    "target"
   ]
  },
  {
   "cell_type": "code",
   "execution_count": 8,
   "id": "fcb1f8d1",
   "metadata": {},
   "outputs": [],
   "source": [
    "targets_ = to_categorical(target, num_classes=3)"
   ]
  },
  {
   "cell_type": "code",
   "execution_count": 9,
   "id": "49cd88d2",
   "metadata": {},
   "outputs": [
    {
     "data": {
      "text/plain": [
       "array([[1., 0., 0.],\n",
       "       [1., 0., 0.],\n",
       "       [1., 0., 0.],\n",
       "       [1., 0., 0.],\n",
       "       [1., 0., 0.],\n",
       "       [1., 0., 0.],\n",
       "       [1., 0., 0.],\n",
       "       [1., 0., 0.],\n",
       "       [1., 0., 0.],\n",
       "       [1., 0., 0.],\n",
       "       [1., 0., 0.],\n",
       "       [1., 0., 0.],\n",
       "       [1., 0., 0.],\n",
       "       [1., 0., 0.],\n",
       "       [1., 0., 0.],\n",
       "       [1., 0., 0.],\n",
       "       [1., 0., 0.],\n",
       "       [1., 0., 0.],\n",
       "       [1., 0., 0.],\n",
       "       [1., 0., 0.],\n",
       "       [1., 0., 0.],\n",
       "       [1., 0., 0.],\n",
       "       [1., 0., 0.],\n",
       "       [1., 0., 0.],\n",
       "       [1., 0., 0.],\n",
       "       [1., 0., 0.],\n",
       "       [1., 0., 0.],\n",
       "       [1., 0., 0.],\n",
       "       [1., 0., 0.],\n",
       "       [1., 0., 0.],\n",
       "       [1., 0., 0.],\n",
       "       [1., 0., 0.],\n",
       "       [1., 0., 0.],\n",
       "       [1., 0., 0.],\n",
       "       [1., 0., 0.],\n",
       "       [1., 0., 0.],\n",
       "       [1., 0., 0.],\n",
       "       [1., 0., 0.],\n",
       "       [1., 0., 0.],\n",
       "       [1., 0., 0.],\n",
       "       [1., 0., 0.],\n",
       "       [1., 0., 0.],\n",
       "       [1., 0., 0.],\n",
       "       [1., 0., 0.],\n",
       "       [1., 0., 0.],\n",
       "       [1., 0., 0.],\n",
       "       [1., 0., 0.],\n",
       "       [1., 0., 0.],\n",
       "       [1., 0., 0.],\n",
       "       [1., 0., 0.],\n",
       "       [0., 1., 0.],\n",
       "       [0., 1., 0.],\n",
       "       [0., 1., 0.],\n",
       "       [0., 1., 0.],\n",
       "       [0., 1., 0.],\n",
       "       [0., 1., 0.],\n",
       "       [0., 1., 0.],\n",
       "       [0., 1., 0.],\n",
       "       [0., 1., 0.],\n",
       "       [0., 1., 0.],\n",
       "       [0., 1., 0.],\n",
       "       [0., 1., 0.],\n",
       "       [0., 1., 0.],\n",
       "       [0., 1., 0.],\n",
       "       [0., 1., 0.],\n",
       "       [0., 1., 0.],\n",
       "       [0., 1., 0.],\n",
       "       [0., 1., 0.],\n",
       "       [0., 1., 0.],\n",
       "       [0., 1., 0.],\n",
       "       [0., 1., 0.],\n",
       "       [0., 1., 0.],\n",
       "       [0., 1., 0.],\n",
       "       [0., 1., 0.],\n",
       "       [0., 1., 0.],\n",
       "       [0., 1., 0.],\n",
       "       [0., 1., 0.],\n",
       "       [0., 1., 0.],\n",
       "       [0., 1., 0.],\n",
       "       [0., 1., 0.],\n",
       "       [0., 1., 0.],\n",
       "       [0., 1., 0.],\n",
       "       [0., 1., 0.],\n",
       "       [0., 1., 0.],\n",
       "       [0., 1., 0.],\n",
       "       [0., 1., 0.],\n",
       "       [0., 1., 0.],\n",
       "       [0., 1., 0.],\n",
       "       [0., 1., 0.],\n",
       "       [0., 1., 0.],\n",
       "       [0., 1., 0.],\n",
       "       [0., 1., 0.],\n",
       "       [0., 1., 0.],\n",
       "       [0., 1., 0.],\n",
       "       [0., 1., 0.],\n",
       "       [0., 1., 0.],\n",
       "       [0., 1., 0.],\n",
       "       [0., 1., 0.],\n",
       "       [0., 1., 0.],\n",
       "       [0., 1., 0.],\n",
       "       [0., 0., 1.],\n",
       "       [0., 0., 1.],\n",
       "       [0., 0., 1.],\n",
       "       [0., 0., 1.],\n",
       "       [0., 0., 1.],\n",
       "       [0., 0., 1.],\n",
       "       [0., 0., 1.],\n",
       "       [0., 0., 1.],\n",
       "       [0., 0., 1.],\n",
       "       [0., 0., 1.],\n",
       "       [0., 0., 1.],\n",
       "       [0., 0., 1.],\n",
       "       [0., 0., 1.],\n",
       "       [0., 0., 1.],\n",
       "       [0., 0., 1.],\n",
       "       [0., 0., 1.],\n",
       "       [0., 0., 1.],\n",
       "       [0., 0., 1.],\n",
       "       [0., 0., 1.],\n",
       "       [0., 0., 1.],\n",
       "       [0., 0., 1.],\n",
       "       [0., 0., 1.],\n",
       "       [0., 0., 1.],\n",
       "       [0., 0., 1.],\n",
       "       [0., 0., 1.],\n",
       "       [0., 0., 1.],\n",
       "       [0., 0., 1.],\n",
       "       [0., 0., 1.],\n",
       "       [0., 0., 1.],\n",
       "       [0., 0., 1.],\n",
       "       [0., 0., 1.],\n",
       "       [0., 0., 1.],\n",
       "       [0., 0., 1.],\n",
       "       [0., 0., 1.],\n",
       "       [0., 0., 1.],\n",
       "       [0., 0., 1.],\n",
       "       [0., 0., 1.],\n",
       "       [0., 0., 1.],\n",
       "       [0., 0., 1.],\n",
       "       [0., 0., 1.],\n",
       "       [0., 0., 1.],\n",
       "       [0., 0., 1.],\n",
       "       [0., 0., 1.],\n",
       "       [0., 0., 1.],\n",
       "       [0., 0., 1.],\n",
       "       [0., 0., 1.],\n",
       "       [0., 0., 1.],\n",
       "       [0., 0., 1.],\n",
       "       [0., 0., 1.],\n",
       "       [0., 0., 1.]], dtype=float32)"
      ]
     },
     "execution_count": 9,
     "metadata": {},
     "output_type": "execute_result"
    }
   ],
   "source": [
    "targets_"
   ]
  },
  {
   "cell_type": "code",
   "execution_count": 10,
   "id": "ade267ef",
   "metadata": {},
   "outputs": [
    {
     "data": {
      "text/plain": [
       "4"
      ]
     },
     "execution_count": 10,
     "metadata": {},
     "output_type": "execute_result"
    }
   ],
   "source": [
    "features.shape[1]"
   ]
  },
  {
   "cell_type": "code",
   "execution_count": 11,
   "id": "7a23c057",
   "metadata": {},
   "outputs": [],
   "source": [
    "from sklearn.model_selection import train_test_split\n",
    "\n",
    "X_train, X_test, y_train, y_test = train_test_split(features, targets_)\n",
    "X_train, X_val, y_train, y_val = train_test_split(X_train, y_train)"
   ]
  },
  {
   "cell_type": "code",
   "execution_count": 12,
   "id": "70fab914",
   "metadata": {},
   "outputs": [],
   "source": [
    "model = Sequential()\n",
    "\n",
    "model.add(Dense(100, input_shape=(features.shape[1],)))\n",
    "model.add(Dense(30, activation=\"relu\"))\n",
    "# model.add(Dense(45, activation=\"relu\"))\n",
    "# model.add(Dense(32, activation=\"relu\"))\n",
    "# model.add(Dense(23, activation=\"relu\"))\n",
    "model.add(Dense(3, activation=\"softmax\"))"
   ]
  },
  {
   "cell_type": "code",
   "execution_count": 13,
   "id": "5b7002c6",
   "metadata": {},
   "outputs": [
    {
     "name": "stdout",
     "output_type": "stream",
     "text": [
      "Model: \"sequential\"\n",
      "_________________________________________________________________\n",
      " Layer (type)                Output Shape              Param #   \n",
      "=================================================================\n",
      " dense (Dense)               (None, 100)               500       \n",
      "                                                                 \n",
      " dense_1 (Dense)             (None, 30)                3030      \n",
      "                                                                 \n",
      " dense_2 (Dense)             (None, 3)                 93        \n",
      "                                                                 \n",
      "=================================================================\n",
      "Total params: 3,623\n",
      "Trainable params: 3,623\n",
      "Non-trainable params: 0\n",
      "_________________________________________________________________\n"
     ]
    }
   ],
   "source": [
    "model.summary()"
   ]
  },
  {
   "cell_type": "code",
   "execution_count": 14,
   "id": "6d74eb9a",
   "metadata": {},
   "outputs": [],
   "source": [
    "import tensorflow\n",
    "\n",
    "model.compile(optimizer=\"sgd\", \n",
    "              loss=tensorflow.keras.losses.CategoricalCrossentropy(), \n",
    "              metrics=['accuracy'])"
   ]
  },
  {
   "cell_type": "code",
   "execution_count": 15,
   "id": "08934108",
   "metadata": {},
   "outputs": [
    {
     "name": "stdout",
     "output_type": "stream",
     "text": [
      "Epoch 1/50\n",
      "3/3 [==============================] - 1s 96ms/step - loss: 1.5586 - accuracy: 0.2500 - val_loss: 1.1174 - val_accuracy: 0.3214\n",
      "Epoch 2/50\n",
      "3/3 [==============================] - 0s 11ms/step - loss: 1.1211 - accuracy: 0.4167 - val_loss: 1.0537 - val_accuracy: 0.3214\n",
      "Epoch 3/50\n",
      "3/3 [==============================] - 0s 12ms/step - loss: 1.0530 - accuracy: 0.3452 - val_loss: 1.0189 - val_accuracy: 0.6786\n",
      "Epoch 4/50\n",
      "3/3 [==============================] - 0s 14ms/step - loss: 1.0108 - accuracy: 0.5714 - val_loss: 0.9470 - val_accuracy: 0.6786\n",
      "Epoch 5/50\n",
      "3/3 [==============================] - 0s 12ms/step - loss: 0.9482 - accuracy: 0.6667 - val_loss: 0.9093 - val_accuracy: 0.6786\n",
      "Epoch 6/50\n",
      "3/3 [==============================] - 0s 14ms/step - loss: 0.8962 - accuracy: 0.6667 - val_loss: 0.8877 - val_accuracy: 0.3571\n",
      "Epoch 7/50\n",
      "3/3 [==============================] - 0s 14ms/step - loss: 0.8628 - accuracy: 0.6071 - val_loss: 0.8389 - val_accuracy: 0.6786\n",
      "Epoch 8/50\n",
      "3/3 [==============================] - 0s 15ms/step - loss: 0.8235 - accuracy: 0.6905 - val_loss: 0.8035 - val_accuracy: 0.8929\n",
      "Epoch 9/50\n",
      "3/3 [==============================] - 0s 15ms/step - loss: 0.7959 - accuracy: 0.8452 - val_loss: 0.7811 - val_accuracy: 0.6786\n",
      "Epoch 10/50\n",
      "3/3 [==============================] - 0s 14ms/step - loss: 0.7803 - accuracy: 0.6786 - val_loss: 0.7534 - val_accuracy: 0.8571\n",
      "Epoch 11/50\n",
      "3/3 [==============================] - 0s 11ms/step - loss: 0.7412 - accuracy: 0.7500 - val_loss: 0.7513 - val_accuracy: 0.6786\n",
      "Epoch 12/50\n",
      "3/3 [==============================] - 0s 11ms/step - loss: 0.7369 - accuracy: 0.8095 - val_loss: 0.7207 - val_accuracy: 0.6786\n",
      "Epoch 13/50\n",
      "3/3 [==============================] - 0s 14ms/step - loss: 0.7249 - accuracy: 0.6667 - val_loss: 0.7110 - val_accuracy: 0.6786\n",
      "Epoch 14/50\n",
      "3/3 [==============================] - 0s 15ms/step - loss: 0.7018 - accuracy: 0.7857 - val_loss: 0.7004 - val_accuracy: 0.6786\n",
      "Epoch 15/50\n",
      "3/3 [==============================] - 0s 19ms/step - loss: 0.6631 - accuracy: 0.7262 - val_loss: 0.6535 - val_accuracy: 0.8214\n",
      "Epoch 16/50\n",
      "3/3 [==============================] - 0s 13ms/step - loss: 0.6400 - accuracy: 0.7857 - val_loss: 0.6490 - val_accuracy: 0.6786\n",
      "Epoch 17/50\n",
      "3/3 [==============================] - 0s 10ms/step - loss: 0.6359 - accuracy: 0.6667 - val_loss: 0.6541 - val_accuracy: 0.6786\n",
      "Epoch 18/50\n",
      "3/3 [==============================] - 0s 15ms/step - loss: 0.6244 - accuracy: 0.7500 - val_loss: 0.5999 - val_accuracy: 0.8571\n",
      "Epoch 19/50\n",
      "3/3 [==============================] - 0s 14ms/step - loss: 0.5999 - accuracy: 0.7619 - val_loss: 0.6024 - val_accuracy: 0.7143\n",
      "Epoch 20/50\n",
      "3/3 [==============================] - 0s 16ms/step - loss: 0.6029 - accuracy: 0.7143 - val_loss: 0.5893 - val_accuracy: 0.6786\n",
      "Epoch 21/50\n",
      "3/3 [==============================] - 0s 15ms/step - loss: 0.5760 - accuracy: 0.6667 - val_loss: 0.6147 - val_accuracy: 0.6786\n",
      "Epoch 22/50\n",
      "3/3 [==============================] - 0s 14ms/step - loss: 0.5872 - accuracy: 0.7500 - val_loss: 0.5594 - val_accuracy: 0.9286\n",
      "Epoch 23/50\n",
      "3/3 [==============================] - 0s 11ms/step - loss: 0.5578 - accuracy: 0.9167 - val_loss: 0.5479 - val_accuracy: 0.6786\n",
      "Epoch 24/50\n",
      "3/3 [==============================] - 0s 10ms/step - loss: 0.5470 - accuracy: 0.7024 - val_loss: 0.5296 - val_accuracy: 0.7857\n",
      "Epoch 25/50\n",
      "3/3 [==============================] - 0s 14ms/step - loss: 0.5459 - accuracy: 0.7381 - val_loss: 0.5270 - val_accuracy: 0.6786\n",
      "Epoch 26/50\n",
      "3/3 [==============================] - 0s 11ms/step - loss: 0.5234 - accuracy: 0.7619 - val_loss: 0.5122 - val_accuracy: 0.9643\n",
      "Epoch 27/50\n",
      "3/3 [==============================] - 0s 10ms/step - loss: 0.5278 - accuracy: 0.8929 - val_loss: 0.5077 - val_accuracy: 1.0000\n",
      "Epoch 28/50\n",
      "3/3 [==============================] - 0s 14ms/step - loss: 0.5085 - accuracy: 0.9048 - val_loss: 0.5025 - val_accuracy: 0.9643\n",
      "Epoch 29/50\n",
      "3/3 [==============================] - 0s 14ms/step - loss: 0.5037 - accuracy: 0.8571 - val_loss: 0.5560 - val_accuracy: 0.6786\n",
      "Epoch 30/50\n",
      "3/3 [==============================] - 0s 15ms/step - loss: 0.5195 - accuracy: 0.8333 - val_loss: 0.4821 - val_accuracy: 0.8214\n",
      "Epoch 31/50\n",
      "3/3 [==============================] - 0s 15ms/step - loss: 0.4836 - accuracy: 0.8690 - val_loss: 0.4766 - val_accuracy: 0.8571\n",
      "Epoch 32/50\n",
      "3/3 [==============================] - 0s 14ms/step - loss: 0.4769 - accuracy: 0.9048 - val_loss: 0.4700 - val_accuracy: 0.9643\n",
      "Epoch 33/50\n",
      "3/3 [==============================] - 0s 13ms/step - loss: 0.4745 - accuracy: 0.9524 - val_loss: 0.4634 - val_accuracy: 0.8214\n",
      "Epoch 34/50\n",
      "3/3 [==============================] - 0s 14ms/step - loss: 0.4674 - accuracy: 0.9524 - val_loss: 0.4717 - val_accuracy: 0.6786\n",
      "Epoch 35/50\n",
      "3/3 [==============================] - 0s 15ms/step - loss: 0.4631 - accuracy: 0.8214 - val_loss: 0.4538 - val_accuracy: 0.7857\n",
      "Epoch 36/50\n",
      "3/3 [==============================] - 0s 14ms/step - loss: 0.4597 - accuracy: 0.8810 - val_loss: 0.4643 - val_accuracy: 0.6786\n",
      "Epoch 37/50\n",
      "3/3 [==============================] - 0s 13ms/step - loss: 0.4635 - accuracy: 0.8214 - val_loss: 0.4489 - val_accuracy: 0.7857\n",
      "Epoch 38/50\n",
      "3/3 [==============================] - 0s 13ms/step - loss: 0.4477 - accuracy: 0.8571 - val_loss: 0.4367 - val_accuracy: 1.0000\n",
      "Epoch 39/50\n",
      "3/3 [==============================] - 0s 13ms/step - loss: 0.4464 - accuracy: 0.8333 - val_loss: 0.4368 - val_accuracy: 0.7857\n",
      "Epoch 40/50\n",
      "3/3 [==============================] - 0s 12ms/step - loss: 0.4597 - accuracy: 0.8095 - val_loss: 0.4242 - val_accuracy: 0.9643\n",
      "Epoch 41/50\n",
      "3/3 [==============================] - 0s 12ms/step - loss: 0.4299 - accuracy: 0.9405 - val_loss: 0.4204 - val_accuracy: 0.8929\n",
      "Epoch 42/50\n",
      "3/3 [==============================] - 0s 14ms/step - loss: 0.4352 - accuracy: 0.8929 - val_loss: 0.4311 - val_accuracy: 0.6786\n",
      "Epoch 43/50\n",
      "3/3 [==============================] - 0s 12ms/step - loss: 0.4181 - accuracy: 0.8214 - val_loss: 0.4229 - val_accuracy: 0.9286\n",
      "Epoch 44/50\n",
      "3/3 [==============================] - 0s 15ms/step - loss: 0.4310 - accuracy: 0.9048 - val_loss: 0.4070 - val_accuracy: 1.0000\n",
      "Epoch 45/50\n",
      "3/3 [==============================] - 0s 11ms/step - loss: 0.4074 - accuracy: 0.9762 - val_loss: 0.4121 - val_accuracy: 0.7857\n",
      "Epoch 46/50\n",
      "3/3 [==============================] - 0s 10ms/step - loss: 0.4040 - accuracy: 0.8810 - val_loss: 0.4083 - val_accuracy: 0.9286\n",
      "Epoch 47/50\n",
      "3/3 [==============================] - 0s 13ms/step - loss: 0.4015 - accuracy: 0.9524 - val_loss: 0.4093 - val_accuracy: 0.7857\n",
      "Epoch 48/50\n",
      "3/3 [==============================] - 0s 12ms/step - loss: 0.4102 - accuracy: 0.8810 - val_loss: 0.3961 - val_accuracy: 0.8214\n",
      "Epoch 49/50\n",
      "3/3 [==============================] - 0s 11ms/step - loss: 0.3986 - accuracy: 0.9286 - val_loss: 0.3928 - val_accuracy: 0.8214\n",
      "Epoch 50/50\n",
      "3/3 [==============================] - 0s 13ms/step - loss: 0.3866 - accuracy: 0.8929 - val_loss: 0.3968 - val_accuracy: 0.9286\n"
     ]
    },
    {
     "data": {
      "text/plain": [
       "<keras.callbacks.History at 0x126be690fd0>"
      ]
     },
     "execution_count": 15,
     "metadata": {},
     "output_type": "execute_result"
    }
   ],
   "source": [
    "model.fit(X_train, y_train, epochs=50, validation_data=(X_val, y_val))"
   ]
  },
  {
   "cell_type": "code",
   "execution_count": 16,
   "id": "25959dd9",
   "metadata": {},
   "outputs": [
    {
     "data": {
      "text/plain": [
       "(84, 4)"
      ]
     },
     "execution_count": 16,
     "metadata": {},
     "output_type": "execute_result"
    }
   ],
   "source": [
    "X_train.shape"
   ]
  },
  {
   "cell_type": "code",
   "execution_count": 17,
   "id": "5a1cd50c",
   "metadata": {},
   "outputs": [
    {
     "data": {
      "text/plain": [
       "(84, 3)"
      ]
     },
     "execution_count": 17,
     "metadata": {},
     "output_type": "execute_result"
    }
   ],
   "source": [
    "y_train.shape"
   ]
  },
  {
   "cell_type": "code",
   "execution_count": 23,
   "id": "665974ee",
   "metadata": {},
   "outputs": [
    {
     "ename": "AttributeError",
     "evalue": "'Sequential' object has no attribute 'predict_classes'",
     "output_type": "error",
     "traceback": [
      "\u001b[1;31m---------------------------------------------------------------------------\u001b[0m",
      "\u001b[1;31mAttributeError\u001b[0m                            Traceback (most recent call last)",
      "Input \u001b[1;32mIn [23]\u001b[0m, in \u001b[0;36m<cell line: 1>\u001b[1;34m()\u001b[0m\n\u001b[1;32m----> 1\u001b[0m y_pred \u001b[38;5;241m=\u001b[39m \u001b[43mmodel\u001b[49m\u001b[38;5;241;43m.\u001b[39;49m\u001b[43mpredict_classes\u001b[49m(X_test)\n",
      "\u001b[1;31mAttributeError\u001b[0m: 'Sequential' object has no attribute 'predict_classes'"
     ]
    }
   ],
   "source": [
    "y_pred = model.predict(X_test)"
   ]
  },
  {
   "cell_type": "code",
   "execution_count": 24,
   "id": "9abdf408",
   "metadata": {},
   "outputs": [
    {
     "data": {
      "text/plain": [
       "array([[0.9033899 , 0.0873907 , 0.00921948],\n",
       "       [0.9555282 , 0.0401418 , 0.00432999],\n",
       "       [0.0053393 , 0.39395493, 0.6007058 ],\n",
       "       [0.07001889, 0.6158636 , 0.31411758],\n",
       "       [0.04490031, 0.58227855, 0.37282106],\n",
       "       [0.08726252, 0.62297726, 0.28976026],\n",
       "       [0.0010098 , 0.33925155, 0.6597387 ],\n",
       "       [0.00421508, 0.4875413 , 0.5082436 ],\n",
       "       [0.0141829 , 0.5155792 , 0.4702379 ],\n",
       "       [0.00546614, 0.50801915, 0.48651472],\n",
       "       [0.00466819, 0.35053003, 0.6448018 ],\n",
       "       [0.06489778, 0.6523266 , 0.2827757 ],\n",
       "       [0.00982687, 0.60463995, 0.38553324],\n",
       "       [0.00423689, 0.4729381 , 0.52282506],\n",
       "       [0.20493516, 0.5739176 , 0.22114718],\n",
       "       [0.01474015, 0.5155404 , 0.46971944],\n",
       "       [0.03143275, 0.6709356 , 0.2976317 ],\n",
       "       [0.01719139, 0.5008289 , 0.48197973],\n",
       "       [0.9167617 , 0.07660444, 0.00663376],\n",
       "       [0.8888165 , 0.10192615, 0.00925736],\n",
       "       [0.06531963, 0.6669118 , 0.26776856],\n",
       "       [0.94230837, 0.05306594, 0.00462568],\n",
       "       [0.89673597, 0.09592334, 0.00734066],\n",
       "       [0.08307811, 0.6449598 , 0.27196205],\n",
       "       [0.01075232, 0.48151687, 0.50773084],\n",
       "       [0.00759385, 0.35582078, 0.6365854 ],\n",
       "       [0.01894237, 0.57603216, 0.4050254 ],\n",
       "       [0.93891644, 0.05628684, 0.00479679],\n",
       "       [0.04234813, 0.61414635, 0.3435055 ],\n",
       "       [0.00908773, 0.40675864, 0.58415365],\n",
       "       [0.92656285, 0.06810312, 0.00533395],\n",
       "       [0.0019932 , 0.42817143, 0.56983536],\n",
       "       [0.9363982 , 0.05826491, 0.00533688],\n",
       "       [0.8543221 , 0.13269424, 0.01298366],\n",
       "       [0.9594425 , 0.03773791, 0.00281968],\n",
       "       [0.04347276, 0.5639351 , 0.39259216],\n",
       "       [0.05121335, 0.6276771 , 0.32110953],\n",
       "       [0.07356136, 0.68620735, 0.24023129]], dtype=float32)"
      ]
     },
     "execution_count": 24,
     "metadata": {},
     "output_type": "execute_result"
    }
   ],
   "source": [
    "y_pred"
   ]
  },
  {
   "cell_type": "code",
   "execution_count": null,
   "id": "d2b78799",
   "metadata": {},
   "outputs": [],
   "source": [
    "# preprocessing code"
   ]
  },
  {
   "cell_type": "code",
   "execution_count": 25,
   "id": "c95f9ee3",
   "metadata": {},
   "outputs": [],
   "source": [
    "model.save(\"NN.h5\")"
   ]
  },
  {
   "cell_type": "code",
   "execution_count": 26,
   "id": "4b12e091",
   "metadata": {},
   "outputs": [],
   "source": [
    "from tensorflow.keras.models import load_model"
   ]
  },
  {
   "cell_type": "code",
   "execution_count": 27,
   "id": "e8d213d9",
   "metadata": {},
   "outputs": [],
   "source": [
    "model = load_model(\"./NN.h5\")"
   ]
  },
  {
   "cell_type": "code",
   "execution_count": 28,
   "id": "3c6fafc2",
   "metadata": {},
   "outputs": [
    {
     "name": "stdout",
     "output_type": "stream",
     "text": [
      "Model: \"sequential\"\n",
      "_________________________________________________________________\n",
      " Layer (type)                Output Shape              Param #   \n",
      "=================================================================\n",
      " dense (Dense)               (None, 100)               500       \n",
      "                                                                 \n",
      " dense_1 (Dense)             (None, 30)                3030      \n",
      "                                                                 \n",
      " dense_2 (Dense)             (None, 3)                 93        \n",
      "                                                                 \n",
      "=================================================================\n",
      "Total params: 3,623\n",
      "Trainable params: 3,623\n",
      "Non-trainable params: 0\n",
      "_________________________________________________________________\n"
     ]
    }
   ],
   "source": [
    "model.summary()"
   ]
  },
  {
   "cell_type": "code",
   "execution_count": 29,
   "id": "3e2cf614",
   "metadata": {},
   "outputs": [
    {
     "name": "stdout",
     "output_type": "stream",
     "text": [
      "1/1 [==============================] - 0s 72ms/step\n"
     ]
    }
   ],
   "source": [
    "clas = model.predict([[0.9, 0.8, 0.5, 0.9]])"
   ]
  },
  {
   "cell_type": "code",
   "execution_count": 30,
   "id": "313484de",
   "metadata": {},
   "outputs": [
    {
     "data": {
      "text/plain": [
       "array([[0.33863625, 0.29071176, 0.370652  ]], dtype=float32)"
      ]
     },
     "execution_count": 30,
     "metadata": {},
     "output_type": "execute_result"
    }
   ],
   "source": [
    "clas"
   ]
  },
  {
   "cell_type": "code",
   "execution_count": 32,
   "id": "4c4fab42",
   "metadata": {},
   "outputs": [
    {
     "data": {
      "text/plain": [
       "2"
      ]
     },
     "execution_count": 32,
     "metadata": {},
     "output_type": "execute_result"
    }
   ],
   "source": [
    "np.argmax(clas)"
   ]
  },
  {
   "cell_type": "code",
   "execution_count": 31,
   "id": "0c260f24",
   "metadata": {},
   "outputs": [
    {
     "data": {
      "text/plain": [
       "'iris color'"
      ]
     },
     "execution_count": 31,
     "metadata": {},
     "output_type": "execute_result"
    }
   ],
   "source": [
    "classes = ['iris satosa', 'virginica', 'iris color']\n",
    "\n",
    "classes[np.argmax(clas)]"
   ]
  },
  {
   "cell_type": "code",
   "execution_count": null,
   "id": "5a523ec3",
   "metadata": {},
   "outputs": [],
   "source": []
  }
 ],
 "metadata": {
  "kernelspec": {
   "display_name": "Python 3 (ipykernel)",
   "language": "python",
   "name": "python3"
  },
  "language_info": {
   "codemirror_mode": {
    "name": "ipython",
    "version": 3
   },
   "file_extension": ".py",
   "mimetype": "text/x-python",
   "name": "python",
   "nbconvert_exporter": "python",
   "pygments_lexer": "ipython3",
   "version": "3.9.12"
  }
 },
 "nbformat": 4,
 "nbformat_minor": 5
}
