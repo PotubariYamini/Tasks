{
 "cells": [
  {
   "cell_type": "code",
   "execution_count": 1,
   "id": "d05f4286",
   "metadata": {},
   "outputs": [],
   "source": [
    "import numpy as np\n",
    "import pandas as pd"
   ]
  },
  {
   "cell_type": "code",
   "execution_count": 2,
   "id": "2de082ed",
   "metadata": {},
   "outputs": [],
   "source": [
    "X = [i for i in range(1, 10)]\n",
    "Y = [12.8,14.6,19.2,14.8,13.9,15.6,17.2,10.2,18.3]"
   ]
  },
  {
   "cell_type": "code",
   "execution_count": 3,
   "id": "e999e559",
   "metadata": {},
   "outputs": [],
   "source": [
    "dataset = pd.DataFrame(data={\n",
    "    'X' : X,\n",
    "    'Y' : Y\n",
    "})"
   ]
  },
  {
   "cell_type": "code",
   "execution_count": 4,
   "id": "e49736e8",
   "metadata": {},
   "outputs": [
    {
     "data": {
      "text/html": [
       "<div>\n",
       "<style scoped>\n",
       "    .dataframe tbody tr th:only-of-type {\n",
       "        vertical-align: middle;\n",
       "    }\n",
       "\n",
       "    .dataframe tbody tr th {\n",
       "        vertical-align: top;\n",
       "    }\n",
       "\n",
       "    .dataframe thead th {\n",
       "        text-align: right;\n",
       "    }\n",
       "</style>\n",
       "<table border=\"1\" class=\"dataframe\">\n",
       "  <thead>\n",
       "    <tr style=\"text-align: right;\">\n",
       "      <th></th>\n",
       "      <th>X</th>\n",
       "      <th>Y</th>\n",
       "    </tr>\n",
       "  </thead>\n",
       "  <tbody>\n",
       "    <tr>\n",
       "      <th>0</th>\n",
       "      <td>1</td>\n",
       "      <td>12.8</td>\n",
       "    </tr>\n",
       "    <tr>\n",
       "      <th>1</th>\n",
       "      <td>2</td>\n",
       "      <td>14.6</td>\n",
       "    </tr>\n",
       "    <tr>\n",
       "      <th>2</th>\n",
       "      <td>3</td>\n",
       "      <td>19.2</td>\n",
       "    </tr>\n",
       "    <tr>\n",
       "      <th>3</th>\n",
       "      <td>4</td>\n",
       "      <td>14.8</td>\n",
       "    </tr>\n",
       "    <tr>\n",
       "      <th>4</th>\n",
       "      <td>5</td>\n",
       "      <td>13.9</td>\n",
       "    </tr>\n",
       "    <tr>\n",
       "      <th>5</th>\n",
       "      <td>6</td>\n",
       "      <td>15.6</td>\n",
       "    </tr>\n",
       "    <tr>\n",
       "      <th>6</th>\n",
       "      <td>7</td>\n",
       "      <td>17.2</td>\n",
       "    </tr>\n",
       "    <tr>\n",
       "      <th>7</th>\n",
       "      <td>8</td>\n",
       "      <td>10.2</td>\n",
       "    </tr>\n",
       "    <tr>\n",
       "      <th>8</th>\n",
       "      <td>9</td>\n",
       "      <td>18.3</td>\n",
       "    </tr>\n",
       "  </tbody>\n",
       "</table>\n",
       "</div>"
      ],
      "text/plain": [
       "   X     Y\n",
       "0  1  12.8\n",
       "1  2  14.6\n",
       "2  3  19.2\n",
       "3  4  14.8\n",
       "4  5  13.9\n",
       "5  6  15.6\n",
       "6  7  17.2\n",
       "7  8  10.2\n",
       "8  9  18.3"
      ]
     },
     "execution_count": 4,
     "metadata": {},
     "output_type": "execute_result"
    }
   ],
   "source": [
    "dataset"
   ]
  },
  {
   "cell_type": "code",
   "execution_count": 5,
   "id": "9f404af1",
   "metadata": {},
   "outputs": [],
   "source": [
    "dataset['XY'] = dataset['X'] * dataset['Y'] \n",
    "dataset['X2'] = dataset['X'] ** 2"
   ]
  },
  {
   "cell_type": "code",
   "execution_count": 6,
   "id": "9456a9ec",
   "metadata": {},
   "outputs": [
    {
     "data": {
      "text/html": [
       "<div>\n",
       "<style scoped>\n",
       "    .dataframe tbody tr th:only-of-type {\n",
       "        vertical-align: middle;\n",
       "    }\n",
       "\n",
       "    .dataframe tbody tr th {\n",
       "        vertical-align: top;\n",
       "    }\n",
       "\n",
       "    .dataframe thead th {\n",
       "        text-align: right;\n",
       "    }\n",
       "</style>\n",
       "<table border=\"1\" class=\"dataframe\">\n",
       "  <thead>\n",
       "    <tr style=\"text-align: right;\">\n",
       "      <th></th>\n",
       "      <th>X</th>\n",
       "      <th>Y</th>\n",
       "      <th>XY</th>\n",
       "      <th>X2</th>\n",
       "    </tr>\n",
       "  </thead>\n",
       "  <tbody>\n",
       "    <tr>\n",
       "      <th>0</th>\n",
       "      <td>1</td>\n",
       "      <td>12.8</td>\n",
       "      <td>12.8</td>\n",
       "      <td>1</td>\n",
       "    </tr>\n",
       "    <tr>\n",
       "      <th>1</th>\n",
       "      <td>2</td>\n",
       "      <td>14.6</td>\n",
       "      <td>29.2</td>\n",
       "      <td>4</td>\n",
       "    </tr>\n",
       "    <tr>\n",
       "      <th>2</th>\n",
       "      <td>3</td>\n",
       "      <td>19.2</td>\n",
       "      <td>57.6</td>\n",
       "      <td>9</td>\n",
       "    </tr>\n",
       "    <tr>\n",
       "      <th>3</th>\n",
       "      <td>4</td>\n",
       "      <td>14.8</td>\n",
       "      <td>59.2</td>\n",
       "      <td>16</td>\n",
       "    </tr>\n",
       "    <tr>\n",
       "      <th>4</th>\n",
       "      <td>5</td>\n",
       "      <td>13.9</td>\n",
       "      <td>69.5</td>\n",
       "      <td>25</td>\n",
       "    </tr>\n",
       "    <tr>\n",
       "      <th>5</th>\n",
       "      <td>6</td>\n",
       "      <td>15.6</td>\n",
       "      <td>93.6</td>\n",
       "      <td>36</td>\n",
       "    </tr>\n",
       "    <tr>\n",
       "      <th>6</th>\n",
       "      <td>7</td>\n",
       "      <td>17.2</td>\n",
       "      <td>120.4</td>\n",
       "      <td>49</td>\n",
       "    </tr>\n",
       "    <tr>\n",
       "      <th>7</th>\n",
       "      <td>8</td>\n",
       "      <td>10.2</td>\n",
       "      <td>81.6</td>\n",
       "      <td>64</td>\n",
       "    </tr>\n",
       "    <tr>\n",
       "      <th>8</th>\n",
       "      <td>9</td>\n",
       "      <td>18.3</td>\n",
       "      <td>164.7</td>\n",
       "      <td>81</td>\n",
       "    </tr>\n",
       "  </tbody>\n",
       "</table>\n",
       "</div>"
      ],
      "text/plain": [
       "   X     Y     XY  X2\n",
       "0  1  12.8   12.8   1\n",
       "1  2  14.6   29.2   4\n",
       "2  3  19.2   57.6   9\n",
       "3  4  14.8   59.2  16\n",
       "4  5  13.9   69.5  25\n",
       "5  6  15.6   93.6  36\n",
       "6  7  17.2  120.4  49\n",
       "7  8  10.2   81.6  64\n",
       "8  9  18.3  164.7  81"
      ]
     },
     "execution_count": 6,
     "metadata": {},
     "output_type": "execute_result"
    }
   ],
   "source": [
    "dataset\n"
   ]
  },
  {
   "cell_type": "code",
   "execution_count": 7,
   "id": "aeb54cc2",
   "metadata": {},
   "outputs": [],
   "source": [
    "n = len(dataset)\n",
    "sum_X = dataset['X'].sum()\n",
    "sum_Y = dataset['Y'].sum()\n",
    "sum_XY = dataset['XY'].sum()\n",
    "sum_X2 = dataset['X2'].sum()\n",
    "sum_X_h2 = sum_X ** 2 "
   ]
  },
  {
   "cell_type": "code",
   "execution_count": 8,
   "id": "e6dddbae",
   "metadata": {},
   "outputs": [
    {
     "data": {
      "text/plain": [
       "(9, 45, 136.6, 688.6000000000001, 285, 2025)"
      ]
     },
     "execution_count": 8,
     "metadata": {},
     "output_type": "execute_result"
    }
   ],
   "source": [
    "n,sum_X,sum_Y,sum_XY,sum_X2,sum_X_h2"
   ]
  },
  {
   "cell_type": "code",
   "execution_count": 9,
   "id": "94395dff",
   "metadata": {},
   "outputs": [
    {
     "data": {
      "text/plain": [
       "50.400000000001455"
      ]
     },
     "execution_count": 9,
     "metadata": {},
     "output_type": "execute_result"
    }
   ],
   "source": [
    "numerator_m = (n*(sum_XY)) - (sum_X*sum_Y)\n",
    "numerator_m"
   ]
  },
  {
   "cell_type": "code",
   "execution_count": 10,
   "id": "2b812f59",
   "metadata": {},
   "outputs": [
    {
     "data": {
      "text/plain": [
       "540"
      ]
     },
     "execution_count": 10,
     "metadata": {},
     "output_type": "execute_result"
    }
   ],
   "source": [
    "denominator_m = ((n*sum_X2) - sum_X_h2)\n",
    "denominator_m"
   ]
  },
  {
   "cell_type": "code",
   "execution_count": 11,
   "id": "c1de534a",
   "metadata": {},
   "outputs": [
    {
     "data": {
      "text/plain": [
       "0.09333333333333603"
      ]
     },
     "execution_count": 11,
     "metadata": {},
     "output_type": "execute_result"
    }
   ],
   "source": [
    "m = numerator_m / denominator_m\n",
    "m"
   ]
  },
  {
   "cell_type": "code",
   "execution_count": 12,
   "id": "63f8914e",
   "metadata": {},
   "outputs": [
    {
     "data": {
      "text/plain": [
       "14.711111111111096"
      ]
     },
     "execution_count": 12,
     "metadata": {},
     "output_type": "execute_result"
    }
   ],
   "source": [
    "numerator_n = sum_Y - (m * sum_X)\n",
    "denominator_d = n\n",
    "\n",
    "A = numerator_n/denominator_d # A=sumofY - m*sumofX / m\n",
    "A"
   ]
  },
  {
   "cell_type": "code",
   "execution_count": 13,
   "id": "3f600d99",
   "metadata": {},
   "outputs": [
    {
     "data": {
      "text/html": [
       "<div>\n",
       "<style scoped>\n",
       "    .dataframe tbody tr th:only-of-type {\n",
       "        vertical-align: middle;\n",
       "    }\n",
       "\n",
       "    .dataframe tbody tr th {\n",
       "        vertical-align: top;\n",
       "    }\n",
       "\n",
       "    .dataframe thead th {\n",
       "        text-align: right;\n",
       "    }\n",
       "</style>\n",
       "<table border=\"1\" class=\"dataframe\">\n",
       "  <thead>\n",
       "    <tr style=\"text-align: right;\">\n",
       "      <th></th>\n",
       "      <th>X</th>\n",
       "      <th>Y</th>\n",
       "      <th>XY</th>\n",
       "      <th>X2</th>\n",
       "    </tr>\n",
       "  </thead>\n",
       "  <tbody>\n",
       "    <tr>\n",
       "      <th>0</th>\n",
       "      <td>1</td>\n",
       "      <td>12.8</td>\n",
       "      <td>12.8</td>\n",
       "      <td>1</td>\n",
       "    </tr>\n",
       "    <tr>\n",
       "      <th>1</th>\n",
       "      <td>2</td>\n",
       "      <td>14.6</td>\n",
       "      <td>29.2</td>\n",
       "      <td>4</td>\n",
       "    </tr>\n",
       "    <tr>\n",
       "      <th>2</th>\n",
       "      <td>3</td>\n",
       "      <td>19.2</td>\n",
       "      <td>57.6</td>\n",
       "      <td>9</td>\n",
       "    </tr>\n",
       "    <tr>\n",
       "      <th>3</th>\n",
       "      <td>4</td>\n",
       "      <td>14.8</td>\n",
       "      <td>59.2</td>\n",
       "      <td>16</td>\n",
       "    </tr>\n",
       "    <tr>\n",
       "      <th>4</th>\n",
       "      <td>5</td>\n",
       "      <td>13.9</td>\n",
       "      <td>69.5</td>\n",
       "      <td>25</td>\n",
       "    </tr>\n",
       "    <tr>\n",
       "      <th>5</th>\n",
       "      <td>6</td>\n",
       "      <td>15.6</td>\n",
       "      <td>93.6</td>\n",
       "      <td>36</td>\n",
       "    </tr>\n",
       "    <tr>\n",
       "      <th>6</th>\n",
       "      <td>7</td>\n",
       "      <td>17.2</td>\n",
       "      <td>120.4</td>\n",
       "      <td>49</td>\n",
       "    </tr>\n",
       "    <tr>\n",
       "      <th>7</th>\n",
       "      <td>8</td>\n",
       "      <td>10.2</td>\n",
       "      <td>81.6</td>\n",
       "      <td>64</td>\n",
       "    </tr>\n",
       "    <tr>\n",
       "      <th>8</th>\n",
       "      <td>9</td>\n",
       "      <td>18.3</td>\n",
       "      <td>164.7</td>\n",
       "      <td>81</td>\n",
       "    </tr>\n",
       "  </tbody>\n",
       "</table>\n",
       "</div>"
      ],
      "text/plain": [
       "   X     Y     XY  X2\n",
       "0  1  12.8   12.8   1\n",
       "1  2  14.6   29.2   4\n",
       "2  3  19.2   57.6   9\n",
       "3  4  14.8   59.2  16\n",
       "4  5  13.9   69.5  25\n",
       "5  6  15.6   93.6  36\n",
       "6  7  17.2  120.4  49\n",
       "7  8  10.2   81.6  64\n",
       "8  9  18.3  164.7  81"
      ]
     },
     "execution_count": 13,
     "metadata": {},
     "output_type": "execute_result"
    }
   ],
   "source": [
    "dataset"
   ]
  },
  {
   "cell_type": "code",
   "execution_count": 14,
   "id": "442c9928",
   "metadata": {},
   "outputs": [
    {
     "data": {
      "text/plain": [
       "[14.804444444444432,\n",
       " 14.897777777777769,\n",
       " 14.991111111111104,\n",
       " 15.08444444444444,\n",
       " 15.177777777777777,\n",
       " 15.271111111111113,\n",
       " 15.364444444444448,\n",
       " 15.457777777777784,\n",
       " 15.55111111111112]"
      ]
     },
     "execution_count": 14,
     "metadata": {},
     "output_type": "execute_result"
    }
   ],
   "source": [
    "inputs= [ i for i in range(1,8)]\n",
    "outputs = [m * X + A for X in dataset['X']]\n",
    "outputs"
   ]
  },
  {
   "cell_type": "code",
   "execution_count": 15,
   "id": "b185b85b",
   "metadata": {},
   "outputs": [],
   "source": [
    "dataset['outputs'] = outputs"
   ]
  },
  {
   "cell_type": "code",
   "execution_count": 16,
   "id": "eb0d8548",
   "metadata": {},
   "outputs": [
    {
     "data": {
      "text/html": [
       "<div>\n",
       "<style scoped>\n",
       "    .dataframe tbody tr th:only-of-type {\n",
       "        vertical-align: middle;\n",
       "    }\n",
       "\n",
       "    .dataframe tbody tr th {\n",
       "        vertical-align: top;\n",
       "    }\n",
       "\n",
       "    .dataframe thead th {\n",
       "        text-align: right;\n",
       "    }\n",
       "</style>\n",
       "<table border=\"1\" class=\"dataframe\">\n",
       "  <thead>\n",
       "    <tr style=\"text-align: right;\">\n",
       "      <th></th>\n",
       "      <th>X</th>\n",
       "      <th>Y</th>\n",
       "      <th>XY</th>\n",
       "      <th>X2</th>\n",
       "      <th>outputs</th>\n",
       "    </tr>\n",
       "  </thead>\n",
       "  <tbody>\n",
       "    <tr>\n",
       "      <th>0</th>\n",
       "      <td>1</td>\n",
       "      <td>12.8</td>\n",
       "      <td>12.8</td>\n",
       "      <td>1</td>\n",
       "      <td>14.804444</td>\n",
       "    </tr>\n",
       "    <tr>\n",
       "      <th>1</th>\n",
       "      <td>2</td>\n",
       "      <td>14.6</td>\n",
       "      <td>29.2</td>\n",
       "      <td>4</td>\n",
       "      <td>14.897778</td>\n",
       "    </tr>\n",
       "    <tr>\n",
       "      <th>2</th>\n",
       "      <td>3</td>\n",
       "      <td>19.2</td>\n",
       "      <td>57.6</td>\n",
       "      <td>9</td>\n",
       "      <td>14.991111</td>\n",
       "    </tr>\n",
       "    <tr>\n",
       "      <th>3</th>\n",
       "      <td>4</td>\n",
       "      <td>14.8</td>\n",
       "      <td>59.2</td>\n",
       "      <td>16</td>\n",
       "      <td>15.084444</td>\n",
       "    </tr>\n",
       "    <tr>\n",
       "      <th>4</th>\n",
       "      <td>5</td>\n",
       "      <td>13.9</td>\n",
       "      <td>69.5</td>\n",
       "      <td>25</td>\n",
       "      <td>15.177778</td>\n",
       "    </tr>\n",
       "    <tr>\n",
       "      <th>5</th>\n",
       "      <td>6</td>\n",
       "      <td>15.6</td>\n",
       "      <td>93.6</td>\n",
       "      <td>36</td>\n",
       "      <td>15.271111</td>\n",
       "    </tr>\n",
       "    <tr>\n",
       "      <th>6</th>\n",
       "      <td>7</td>\n",
       "      <td>17.2</td>\n",
       "      <td>120.4</td>\n",
       "      <td>49</td>\n",
       "      <td>15.364444</td>\n",
       "    </tr>\n",
       "    <tr>\n",
       "      <th>7</th>\n",
       "      <td>8</td>\n",
       "      <td>10.2</td>\n",
       "      <td>81.6</td>\n",
       "      <td>64</td>\n",
       "      <td>15.457778</td>\n",
       "    </tr>\n",
       "    <tr>\n",
       "      <th>8</th>\n",
       "      <td>9</td>\n",
       "      <td>18.3</td>\n",
       "      <td>164.7</td>\n",
       "      <td>81</td>\n",
       "      <td>15.551111</td>\n",
       "    </tr>\n",
       "  </tbody>\n",
       "</table>\n",
       "</div>"
      ],
      "text/plain": [
       "   X     Y     XY  X2    outputs\n",
       "0  1  12.8   12.8   1  14.804444\n",
       "1  2  14.6   29.2   4  14.897778\n",
       "2  3  19.2   57.6   9  14.991111\n",
       "3  4  14.8   59.2  16  15.084444\n",
       "4  5  13.9   69.5  25  15.177778\n",
       "5  6  15.6   93.6  36  15.271111\n",
       "6  7  17.2  120.4  49  15.364444\n",
       "7  8  10.2   81.6  64  15.457778\n",
       "8  9  18.3  164.7  81  15.551111"
      ]
     },
     "execution_count": 16,
     "metadata": {},
     "output_type": "execute_result"
    }
   ],
   "source": [
    "dataset"
   ]
  },
  {
   "cell_type": "code",
   "execution_count": 17,
   "id": "38c2f9c1",
   "metadata": {},
   "outputs": [],
   "source": [
    "import matplotlib.pyplot as plt"
   ]
  },
  {
   "cell_type": "code",
   "execution_count": 18,
   "id": "7b56efa1",
   "metadata": {},
   "outputs": [
    {
     "data": {
      "image/png": "[encoded data removed]",
      "text/plain": [
       "<Figure size 432x288 with 1 Axes>"
      ]
     },
     "metadata": {
      "needs_background": "light"
     },
     "output_type": "display_data"
    }
   ],
   "source": [
    "plt.scatter(dataset['X'], dataset['Y']) #original data\n",
    "plt.plot(dataset['X'], dataset['outputs'], c='r') #predicted data\n",
    "plt.show()"
   ]
  },
  {
   "cell_type": "code",
   "execution_count": 19,
   "id": "a4a1b612",
   "metadata": {},
   "outputs": [],
   "source": [
    "dataset_XY = pd.DataFrame(data={ \n",
    "    'X':[i for i in range(1, 10)]})\n",
    "outputs = [m * X + A for X in dataset_XY['X']]\n"
   ]
  },
  {
   "cell_type": "code",
   "execution_count": 20,
   "id": "ed7b05d0",
   "metadata": {},
   "outputs": [],
   "source": [
    "dataset_XY['outputs'] = outputs"
   ]
  },
  {
   "cell_type": "code",
   "execution_count": 21,
   "id": "afa109f7",
   "metadata": {},
   "outputs": [
    {
     "data": {
      "text/html": [
       "<div>\n",
       "<style scoped>\n",
       "    .dataframe tbody tr th:only-of-type {\n",
       "        vertical-align: middle;\n",
       "    }\n",
       "\n",
       "    .dataframe tbody tr th {\n",
       "        vertical-align: top;\n",
       "    }\n",
       "\n",
       "    .dataframe thead th {\n",
       "        text-align: right;\n",
       "    }\n",
       "</style>\n",
       "<table border=\"1\" class=\"dataframe\">\n",
       "  <thead>\n",
       "    <tr style=\"text-align: right;\">\n",
       "      <th></th>\n",
       "      <th>X</th>\n",
       "      <th>outputs</th>\n",
       "    </tr>\n",
       "  </thead>\n",
       "  <tbody>\n",
       "    <tr>\n",
       "      <th>0</th>\n",
       "      <td>1</td>\n",
       "      <td>14.804444</td>\n",
       "    </tr>\n",
       "    <tr>\n",
       "      <th>1</th>\n",
       "      <td>2</td>\n",
       "      <td>14.897778</td>\n",
       "    </tr>\n",
       "    <tr>\n",
       "      <th>2</th>\n",
       "      <td>3</td>\n",
       "      <td>14.991111</td>\n",
       "    </tr>\n",
       "    <tr>\n",
       "      <th>3</th>\n",
       "      <td>4</td>\n",
       "      <td>15.084444</td>\n",
       "    </tr>\n",
       "    <tr>\n",
       "      <th>4</th>\n",
       "      <td>5</td>\n",
       "      <td>15.177778</td>\n",
       "    </tr>\n",
       "    <tr>\n",
       "      <th>5</th>\n",
       "      <td>6</td>\n",
       "      <td>15.271111</td>\n",
       "    </tr>\n",
       "    <tr>\n",
       "      <th>6</th>\n",
       "      <td>7</td>\n",
       "      <td>15.364444</td>\n",
       "    </tr>\n",
       "    <tr>\n",
       "      <th>7</th>\n",
       "      <td>8</td>\n",
       "      <td>15.457778</td>\n",
       "    </tr>\n",
       "    <tr>\n",
       "      <th>8</th>\n",
       "      <td>9</td>\n",
       "      <td>15.551111</td>\n",
       "    </tr>\n",
       "  </tbody>\n",
       "</table>\n",
       "</div>"
      ],
      "text/plain": [
       "   X    outputs\n",
       "0  1  14.804444\n",
       "1  2  14.897778\n",
       "2  3  14.991111\n",
       "3  4  15.084444\n",
       "4  5  15.177778\n",
       "5  6  15.271111\n",
       "6  7  15.364444\n",
       "7  8  15.457778\n",
       "8  9  15.551111"
      ]
     },
     "execution_count": 21,
     "metadata": {},
     "output_type": "execute_result"
    }
   ],
   "source": [
    "dataset_XY"
   ]
  },
  {
   "cell_type": "code",
   "execution_count": 24,
   "id": "041e3290",
   "metadata": {},
   "outputs": [
    {
     "name": "stdout",
     "output_type": "stream",
     "text": [
      "m value is : 0.09333333333333435\n",
      "A value is : 14.666666666666654\n",
      "output value is : [14.804444444444432, 14.897777777777769, 14.991111111111104, 15.08444444444444, 15.177777777777777, 15.271111111111113, 15.364444444444448, 15.457777777777784, 15.55111111111112]\n"
     ]
    }
   ],
   "source": [
    "class LinearRegression:\n",
    "    \n",
    "    def __init__(self, dataset, n, sum_X, sum_Y, sum_XY, sum_X2, sum_X_h2):\n",
    "        self.dataset=dataset\n",
    "        self.n= n\n",
    "        self.sum_X=sum_X\n",
    "        self.sum_Y=sum_Y\n",
    "        self.sum_XY=sum_XY\n",
    "        self.sum_X2=sum_X2\n",
    "        self.sum_X_h2=sum_X_h2\n",
    "    def find_m(self):\n",
    "        numerator_m = (n*(sum_XY)) - (sum_X*sum_Y)\n",
    "        denominator_m = ((n*sum_X2) - sum_X_h2)\n",
    "        m = numerator_m / denominator_m\n",
    "        return m\n",
    "    def find_A(self):\n",
    "        numerator_n = sum_Y - (m * sum_X)\n",
    "        denominator_d = n\n",
    "        A = numerator_n/denominator_d \n",
    "        return A\n",
    "    def find_outputs(self):\n",
    "        outputs = [m * X + A for X in dataset['X']]\n",
    "        dataset['Outputs'] = outputs\n",
    "        return outputs\n",
    "data={'X':[i for i in range(1,10)],\n",
    "    'Y':[12.8,14.6,19.2,14.8,13.5,15.6,17.2,10.2,18.3]}\n",
    "dataset=pd.DataFrame(data)\n",
    "dataset['XY']= dataset['X'] * dataset['Y']\n",
    "dataset['X2']= dataset['X'] **2\n",
    "n= len(dataset)\n",
    "sum_X= dataset['X'].sum()\n",
    "sum_Y= dataset['Y'].sum()\n",
    "sum_XY= dataset['XY'].sum()\n",
    "SUM_x2=dataset['X2'].sum()\n",
    "sum_X_h2= sum_X ** 2\n",
    "obj=LinearRegression(dataset, n, sum_X, sum_Y, sum_XY, sum_X2, sum_X_h2)\n",
    "print(\"m value is :\",obj.find_m())\n",
    "print(\"A value is :\",obj.find_A())\n",
    "print(\"output value is :\",obj.find_outputs())\n",
    "         \n",
    "        "
   ]
  },
  {
   "cell_type": "code",
   "execution_count": null,
   "id": "57fed137",
   "metadata": {},
   "outputs": [],
   "source": []
  }
 ],
 "metadata": {
  "kernelspec": {
   "display_name": "Python 3 (ipykernel)",
   "language": "python",
   "name": "python3"
  },
  "language_info": {
   "codemirror_mode": {
    "name": "ipython",
    "version": 3
   },
   "file_extension": ".py",
   "mimetype": "text/x-python",
   "name": "python",
   "nbconvert_exporter": "python",
   "pygments_lexer": "ipython3",
   "version": "3.9.12"
  }
 },
 "nbformat": 4,
 "nbformat_minor": 5
}
